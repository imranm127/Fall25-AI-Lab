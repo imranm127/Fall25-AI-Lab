{
 "cells": [
  {
   "cell_type": "code",
   "execution_count": null,
   "id": "8772ef34",
   "metadata": {},
   "outputs": [
    {
     "ename": "SyntaxError",
     "evalue": "invalid syntax (2655550930.py, line 13)",
     "output_type": "error",
     "traceback": [
      "\u001b[1;36m  Cell \u001b[1;32mIn[11], line 13\u001b[1;36m\u001b[0m\n\u001b[1;33m    Example usage\u001b[0m\n\u001b[1;37m            ^\u001b[0m\n\u001b[1;31mSyntaxError\u001b[0m\u001b[1;31m:\u001b[0m invalid syntax\n"
     ]
    }
   ],
   "source": [
    "\n",
    "\n",
    "def luhn_check(card_number):\n",
    "    card_number = card_number[::-1]\n",
    "    total = 0\n",
    "    for i in range(len(card_number)):\n",
    "        digit = int(card_number[i])\n",
    "        if i % 2 == 1:\n",
    "            digit *= 2\n",
    "            if digit > 9:\n",
    "                digit -= 9\n",
    "        total += digit\n",
    "    return total % 10 == 0\n",
    "\n",
    "Example usage\n",
    "num = \"79927398713\"\n",
    "if luhn_check(num):\n",
    "    print(\"Valid card number\")\n",
    "else:\n",
    "    print(\"Invalid card number\")\n",
    "\n",
    "\n",
    "\n",
    "\n"
   ]
  },
  {
   "cell_type": "code",
   "execution_count": 5,
   "id": "c931e6a5",
   "metadata": {},
   "outputs": [
    {
     "ename": "SyntaxError",
     "evalue": "invalid syntax (1783839976.py, line 6)",
     "output_type": "error",
     "traceback": [
      "\u001b[1;36m  Cell \u001b[1;32mIn[5], line 6\u001b[1;36m\u001b[0m\n\u001b[1;33m    Example usage\u001b[0m\n\u001b[1;37m            ^\u001b[0m\n\u001b[1;31mSyntaxError\u001b[0m\u001b[1;31m:\u001b[0m invalid syntax\n"
     ]
    }
   ],
   "source": [
    "\n",
    "import string\n",
    "\n",
    "def remove_punctuations(text):\n",
    "    return ''.join(char for char in text if char not in string.punctuation)\n",
    "\n",
    "Example usage\n",
    "text = \"Hello, world!! Python is great...\"\n",
    "print(remove_punctuations(text))\n"
   ]
  },
  {
   "cell_type": "code",
   "execution_count": 6,
   "id": "173cdf0f",
   "metadata": {},
   "outputs": [
    {
     "ename": "SyntaxError",
     "evalue": "invalid syntax (1807838848.py, line 6)",
     "output_type": "error",
     "traceback": [
      "\u001b[1;36m  Cell \u001b[1;32mIn[6], line 6\u001b[1;36m\u001b[0m\n\u001b[1;33m    Example usage\u001b[0m\n\u001b[1;37m            ^\u001b[0m\n\u001b[1;31mSyntaxError\u001b[0m\u001b[1;31m:\u001b[0m invalid syntax\n"
     ]
    }
   ],
   "source": [
    "\n",
    "def sort_alphabetically(sentence):\n",
    "    words = sentence.split()\n",
    "    words.sort()\n",
    "    return ' '.join(words)\n",
    "\n",
    "Example usage\n",
    "text = \"Python is a powerful and easy language\"\n",
    "print(sort_alphabetically(text))\n"
   ]
  },
  {
   "cell_type": "code",
   "execution_count": null,
   "id": "5cfa445e",
   "metadata": {},
   "outputs": [],
   "source": []
  },
  {
   "cell_type": "code",
   "execution_count": null,
   "id": "560f387c",
   "metadata": {},
   "outputs": [],
   "source": []
  }
 ],
 "metadata": {
  "kernelspec": {
   "display_name": "base",
   "language": "python",
   "name": "python3"
  },
  "language_info": {
   "codemirror_mode": {
    "name": "ipython",
    "version": 3
   },
   "file_extension": ".py",
   "mimetype": "text/x-python",
   "name": "python",
   "nbconvert_exporter": "python",
   "pygments_lexer": "ipython3",
   "version": "3.12.4"
  }
 },
 "nbformat": 4,
 "nbformat_minor": 5
}
